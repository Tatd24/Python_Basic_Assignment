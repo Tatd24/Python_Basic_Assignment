{
  "nbformat": 4,
  "nbformat_minor": 0,
  "metadata": {
    "colab": {
      "provenance": []
    },
    "kernelspec": {
      "name": "python3",
      "display_name": "Python 3"
    },
    "language_info": {
      "name": "python"
    }
  },
  "cells": [
    {
      "cell_type": "code",
      "execution_count": null,
      "metadata": {
        "id": "qUxWaP7CG2zk"
      },
      "outputs": [],
      "source": []
    },
    {
      "cell_type": "markdown",
      "source": [
        "# **Python Basic- Module 03 (Theory)**\n",
        "\n",
        "---\n",
        "\n",
        "\n",
        "1.\tWhat is Python, and why is it popular?\n",
        "Python is a general purpose programming language.\n",
        "Python is popular as it’s a powerful, flexible, and beginner friendly language. Also another reason is its readability, extensive libraries, and wide range of applications.\n",
        "\n",
        "2.\tWhat is an interpreter in Python?\n",
        "In Python an interpreter is a program that reads and executes Python code line by line. It has interpreters like CPython, which uses various optimizations, including catching bytecode, to cut down the interpretation runtime, which makes faster than the other interpreters.\n",
        "\n",
        "3.\tWhat are pre-defined keywords in Python?\n",
        "There are multiple keywords in Python some of them are-\n",
        "•\tTrue\n",
        "•\tFalse\n",
        "•\tAnd\n",
        "•\tAs\n",
        "•\tBreak\n",
        "•\tElif\n",
        "•\tIf\n",
        "•\tElse\n",
        "•\tFor\n",
        "\n",
        "4.\tCan keywords be used as variable names?\n",
        "No, keywords can’t be used as variable names, it will show up as an error, if any keyword is been used as variable.\n",
        "\n",
        "5.\t What is mutability in Python?\n",
        "In Python mutability refers to weather the state or value of an object can be changed after it has been created. If a certain value has been added in a variable, we can change or add that as per requirement with this. The mutable data types are- i) list- [1, 2.14, “pwskills”] any data can be changed in it, ii) dict- {‘a’: 2, ‘b’:3} it’s unordered but still can be modified, etc.\n",
        "\n",
        "6.\tWhy lists mutable, but tuples are immutable?\n",
        "Lists are mutable because their primary purpose is to represent collections of items that are expected to change overtime. This makes it a highly flexible data structure for collections that require frequent additions, removals, or modifications.\n",
        "Tuples are immutable because their primary purpose is to be guaranteed state with predictable behaviour because it is designed for developers to print a specific form of data which is fixed.\n",
        "\n",
        "7.\tWhat is the difference between “==” and “is” operators in Python?\n",
        "In Python “==” and “is” are both comparison operators, but they serve fundamentally different purposes, where “==” is used to compare values, and “is” is used to compare identities as per memory addresses.\n",
        "\n",
        "8.\tWhat are logical operators in Python?\n",
        "In Python logical operators are used to combine conditional statements and to perform logical operations. They are crucial for controlling the flow of your program based on multiple conditions. Some examples are – i) and, ii) or, iii) not\n",
        "\n",
        "9.\tWhat is type casting in Python?\n",
        "It is the process of changing an object of one data type into an object of another data type. Python provides built-in functions to perform these conversions.\n",
        "\n",
        "\n",
        "10.\tWhat is the difference between implicit and explicit type casting?\n",
        "Implicit casting- where interpreter will decide the conversion, explicit casting- We can overturn or set the conversion, this is the main difference between these two.\n",
        "\n",
        "11.\tWhat is the purpose of conditional statements in Python?\n",
        "The purpose of conditional statements in Python is to control the flow of execution. They allow you to program and make decisions and execute different blocks of code depending on the state of variables or the outcome of expressions.\n",
        "\n",
        "12.\tHow does the elif statement work?\n",
        "The elif statement in Python is short for “else if”. It’s a crucial part of conditional logic, allowing you to test multiple conditions sequentially after an initial if statement.\n",
        "\n",
        "13.\tWhat is the difference between for and while loops?\n",
        "For loop is primarily used for iteration over a sequence or for a predetermined number of times. Like a list, tuple, string etc. Where the while loop is used to repeatedly execute a block of code as long as a certain condition remains true.\n",
        "\n",
        "14.\tDescribe a scenario where a while loop is more suitable than a for loop?\n",
        "Suppose a user needs to enter a specific type of input, like a password, and you want to keep prompting them repeatedly until they provide valid input. You don’t know how many attempts the user will need –\n",
        "                                                   If we use a while loop here we can predefined sequence or range, which doesn’t fit this “keep going until valid” cause we don’t know that how many times the user will enter the incorrect password. The loop needs to continue as long as the input is invalid. This is a classic while loop pattern.\n"
      ],
      "metadata": {
        "id": "6BNZjXYtG4LS"
      }
    },
    {
      "cell_type": "markdown",
      "source": [
        "# **Python Basic- Module 03 (Practical)**\n",
        "\n",
        "---\n",
        "\n"
      ],
      "metadata": {
        "id": "cACz4BQ_HhTs"
      }
    },
    {
      "cell_type": "markdown",
      "source": [
        "Write a Python program to print \"Hello, World!\n"
      ],
      "metadata": {
        "id": "pVPSZFdlHxzL"
      }
    },
    {
      "cell_type": "code",
      "source": [
        "print (\"Hello, World!\")"
      ],
      "metadata": {
        "colab": {
          "base_uri": "https://localhost:8080/"
        },
        "id": "IrfxSOdNIBQG",
        "outputId": "3ad041b2-8428-46c5-eca1-8e821ee19d68"
      },
      "execution_count": null,
      "outputs": [
        {
          "output_type": "stream",
          "name": "stdout",
          "text": [
            "Hello, World!\n"
          ]
        }
      ]
    },
    {
      "cell_type": "markdown",
      "source": [
        "*Write a Python program that displays your name and age*"
      ],
      "metadata": {
        "id": "xDGR0iEkILPt"
      }
    },
    {
      "cell_type": "code",
      "source": [
        "Name = \"Tathagata Das\"\n",
        "Age = 25\n",
        "\n",
        "print (\"Name: \", Name)\n",
        "print (\"Age: \",  Age)"
      ],
      "metadata": {
        "colab": {
          "base_uri": "https://localhost:8080/"
        },
        "id": "BIPi8NZ4IecI",
        "outputId": "e0b16805-8c66-40a5-92c9-e600f1deb649"
      },
      "execution_count": null,
      "outputs": [
        {
          "output_type": "stream",
          "name": "stdout",
          "text": [
            "Name:  Tathagata Das\n",
            "Age:  25\n"
          ]
        }
      ]
    },
    {
      "cell_type": "markdown",
      "source": [
        "*Write code to print all the pre-defined keywords in Python using the keyword library*"
      ],
      "metadata": {
        "id": "aqQhZ8hXJ83J"
      }
    },
    {
      "cell_type": "code",
      "source": [
        "import keyword\n",
        "\n",
        "print (\"Predefined keywords in Python:\")\n",
        "for kw in keyword.kwlist:\n",
        "  print (kw)"
      ],
      "metadata": {
        "colab": {
          "base_uri": "https://localhost:8080/"
        },
        "id": "mqKAG0ukIze6",
        "outputId": "483f434c-793d-48fa-a276-852ee1dad114"
      },
      "execution_count": null,
      "outputs": [
        {
          "output_type": "stream",
          "name": "stdout",
          "text": [
            "Predefined keywords in Python:\n",
            "False\n",
            "None\n",
            "True\n",
            "and\n",
            "as\n",
            "assert\n",
            "async\n",
            "await\n",
            "break\n",
            "class\n",
            "continue\n",
            "def\n",
            "del\n",
            "elif\n",
            "else\n",
            "except\n",
            "finally\n",
            "for\n",
            "from\n",
            "global\n",
            "if\n",
            "import\n",
            "in\n",
            "is\n",
            "lambda\n",
            "nonlocal\n",
            "not\n",
            "or\n",
            "pass\n",
            "raise\n",
            "return\n",
            "try\n",
            "while\n",
            "with\n",
            "yield\n"
          ]
        }
      ]
    },
    {
      "cell_type": "markdown",
      "source": [
        "Write a program that checks if a given word is a Python keyword."
      ],
      "metadata": {
        "id": "53P1X41hLovH"
      }
    },
    {
      "cell_type": "code",
      "source": [
        "import keyword\n",
        "\n",
        "def x(word):\n",
        "    return keyword.iskeyword(word)\n",
        "\n",
        "# Example usage\n",
        "word = \"assert\"\n",
        "if x(word):\n",
        "    print(f\"'{word}' is a Python keyword.\")\n",
        "else:\n",
        "    print(f\"'{word}' is NOT a Python keyword.\")"
      ],
      "metadata": {
        "colab": {
          "base_uri": "https://localhost:8080/"
        },
        "id": "CVnIc39jLy6Q",
        "outputId": "b6803a23-481d-46c7-ab0b-034cd075ba09"
      },
      "execution_count": 7,
      "outputs": [
        {
          "output_type": "stream",
          "name": "stdout",
          "text": [
            "'assert' is a Python keyword.\n"
          ]
        }
      ]
    },
    {
      "cell_type": "markdown",
      "source": [
        "Create a list and tuple in Python, and demonstrate how attempting to change an element works differently\n",
        "for each."
      ],
      "metadata": {
        "id": "YJCJYZ20V9EL"
      }
    },
    {
      "cell_type": "code",
      "source": [
        "list= [\"bat\", \"bowl\", 22, 55]\n",
        "print (list)"
      ],
      "metadata": {
        "colab": {
          "base_uri": "https://localhost:8080/"
        },
        "id": "aUduFPZ4WIYD",
        "outputId": "99664e5b-a7d2-43dd-fb8b-b9167c455f26"
      },
      "execution_count": null,
      "outputs": [
        {
          "output_type": "stream",
          "name": "stdout",
          "text": [
            "['bat', 'bowl', 22, 55]\n"
          ]
        }
      ]
    },
    {
      "cell_type": "code",
      "source": [
        "list[2] = \"wicket\"\n",
        "print (list)"
      ],
      "metadata": {
        "colab": {
          "base_uri": "https://localhost:8080/"
        },
        "id": "QzZ5KivVYjXY",
        "outputId": "355db1bd-6f14-43d8-b082-1e950b786d19"
      },
      "execution_count": null,
      "outputs": [
        {
          "output_type": "stream",
          "name": "stdout",
          "text": [
            "['wicket', 'bowl', 'wicket', 55]\n"
          ]
        }
      ]
    },
    {
      "cell_type": "code",
      "source": [
        "tuple= (\"bat\", \"wicket\", 22, 55)\n",
        "print (tuple)"
      ],
      "metadata": {
        "id": "D7eMg1suLdGR",
        "colab": {
          "base_uri": "https://localhost:8080/"
        },
        "outputId": "b7b3905f-790b-43ef-faf5-2c6283ece47e"
      },
      "execution_count": null,
      "outputs": [
        {
          "output_type": "stream",
          "name": "stdout",
          "text": [
            "('bat', 'wicket', 22, 55)\n"
          ]
        }
      ]
    },
    {
      "cell_type": "code",
      "source": [
        "tuple(2) = \"wicket\"\n",
        "print (tuple)"
      ],
      "metadata": {
        "colab": {
          "base_uri": "https://localhost:8080/",
          "height": 106
        },
        "id": "bLhQZ5hxZSa8",
        "outputId": "22f2a928-b886-4b14-a36e-81454378c136"
      },
      "execution_count": null,
      "outputs": [
        {
          "output_type": "error",
          "ename": "SyntaxError",
          "evalue": "cannot assign to function call here. Maybe you meant '==' instead of '='? (ipython-input-40-3472697746.py, line 1)",
          "traceback": [
            "\u001b[0;36m  File \u001b[0;32m\"/tmp/ipython-input-40-3472697746.py\"\u001b[0;36m, line \u001b[0;32m1\u001b[0m\n\u001b[0;31m    tuple(2) = \"wicket\"\u001b[0m\n\u001b[0m    ^\u001b[0m\n\u001b[0;31mSyntaxError\u001b[0m\u001b[0;31m:\u001b[0m cannot assign to function call here. Maybe you meant '==' instead of '='?\n"
          ]
        }
      ]
    },
    {
      "cell_type": "markdown",
      "source": [
        "*Write a function to demonstrate the behavior of mutable and immutable arguments*"
      ],
      "metadata": {
        "id": "9u2Hv3FBZbo9"
      }
    },
    {
      "cell_type": "code",
      "source": [
        "def test_args(x, lst):\n",
        "    x += 1\n",
        "    lst.append(99)\n",
        "\n",
        "a = 10\n",
        "b = [1, 2, 3]\n",
        "\n",
        "test_args(a, b)\n",
        "\n",
        "print(\"a:\", a)\n",
        "print(\"b:\", b)"
      ],
      "metadata": {
        "id": "JFTmCAxdZrGb",
        "colab": {
          "base_uri": "https://localhost:8080/"
        },
        "outputId": "36a557b4-bd7b-47e9-fa4e-fa6bae7d5416"
      },
      "execution_count": null,
      "outputs": [
        {
          "output_type": "stream",
          "name": "stdout",
          "text": [
            "a: 10\n",
            "b: [1, 2, 3, 99]\n"
          ]
        }
      ]
    },
    {
      "cell_type": "markdown",
      "source": [
        "Write a program that performs basic arithmetic operations on two user-input numbers.\n",
        "\n"
      ],
      "metadata": {
        "id": "JyG5L80uaVEW"
      }
    },
    {
      "cell_type": "code",
      "source": [
        "No1 = int(input(\"enter a number:\"))\n",
        "No2 = int(input(\"enter 2nd number:\"))\n",
        "\n",
        "addition = (No1 + No2)\n",
        "subtraction = (No1 - No2)\n",
        "multi = (No1 * No2)\n",
        "Div = (No1/No2)\n",
        "print (f\"The addition of these two are {addition}\")\n",
        "print (f\"The subtraction of these two are {subtraction}\")\n",
        "print (f\"The multi of these two are {multi}\")\n",
        "print (f\"The Div of these two are {Div}\")"
      ],
      "metadata": {
        "colab": {
          "base_uri": "https://localhost:8080/"
        },
        "id": "FBN2v39KbjoQ",
        "outputId": "746a355e-4e10-4d64-d885-a89669d95e97"
      },
      "execution_count": null,
      "outputs": [
        {
          "output_type": "stream",
          "name": "stdout",
          "text": [
            "enter a number:10\n",
            "enter 2nd number:20\n",
            "The addition of these two are 30\n",
            "The subtraction of these two are -10\n",
            "The multi of these two are 200\n",
            "The Div of these two are 0.5\n"
          ]
        }
      ]
    },
    {
      "cell_type": "markdown",
      "source": [
        "Write a program to demonstrate the use of logical operators."
      ],
      "metadata": {
        "id": "czg_PGYxdqoe"
      }
    },
    {
      "cell_type": "code",
      "source": [
        "a = True\n",
        "b = False\n",
        "print (a and b)\n",
        "print (a or b)"
      ],
      "metadata": {
        "colab": {
          "base_uri": "https://localhost:8080/"
        },
        "id": "jRgg6KL0duhn",
        "outputId": "73fc1db9-3325-4daa-b485-744a96c8caa3"
      },
      "execution_count": null,
      "outputs": [
        {
          "output_type": "stream",
          "name": "stdout",
          "text": [
            "False\n",
            "True\n"
          ]
        }
      ]
    },
    {
      "cell_type": "markdown",
      "source": [
        "Write a Python program to convert user input from string to integer, float, and boolean types."
      ],
      "metadata": {
        "id": "lvFwBOUWeCO4"
      }
    },
    {
      "cell_type": "code",
      "source": [
        "x = (\"24\")\n",
        "print(x)"
      ],
      "metadata": {
        "colab": {
          "base_uri": "https://localhost:8080/"
        },
        "id": "3sCOOFSYeEAm",
        "outputId": "cd3327aa-3767-4bf8-874d-7a3bb61a1edb"
      },
      "execution_count": null,
      "outputs": [
        {
          "output_type": "stream",
          "name": "stdout",
          "text": [
            "24\n"
          ]
        }
      ]
    },
    {
      "cell_type": "code",
      "source": [
        "x = int(x)\n",
        "print(x)"
      ],
      "metadata": {
        "colab": {
          "base_uri": "https://localhost:8080/"
        },
        "id": "UIgjXYegdF-u",
        "outputId": "94b7c48f-1ee2-4143-d818-786744140bb2"
      },
      "execution_count": null,
      "outputs": [
        {
          "output_type": "stream",
          "name": "stdout",
          "text": [
            "24\n"
          ]
        }
      ]
    },
    {
      "cell_type": "code",
      "source": [
        "x = float(x)\n",
        "print (x)"
      ],
      "metadata": {
        "colab": {
          "base_uri": "https://localhost:8080/"
        },
        "id": "1o01aH17dEX6",
        "outputId": "a09c25cc-874c-4c6d-c827-8a0e4a1273b5"
      },
      "execution_count": null,
      "outputs": [
        {
          "output_type": "stream",
          "name": "stdout",
          "text": [
            "24.0\n"
          ]
        }
      ]
    },
    {
      "cell_type": "code",
      "source": [
        "x = bool(x)\n",
        "print (x)"
      ],
      "metadata": {
        "colab": {
          "base_uri": "https://localhost:8080/"
        },
        "id": "UqbglTaqfJwd",
        "outputId": "d25e6840-33fc-40cd-ff5b-3b7f18110f20"
      },
      "execution_count": null,
      "outputs": [
        {
          "output_type": "stream",
          "name": "stdout",
          "text": [
            "True\n"
          ]
        }
      ]
    },
    {
      "cell_type": "markdown",
      "source": [
        "Write code to demonstrate type casting with list elements"
      ],
      "metadata": {
        "id": "t8ERc1aFfRmv"
      }
    },
    {
      "cell_type": "code",
      "source": [
        "\n",
        "Number = [10, 20, 30, 40]\n",
        "print (\"This is an example of list\", Number)"
      ],
      "metadata": {
        "colab": {
          "base_uri": "https://localhost:8080/"
        },
        "id": "VxaKa1crfW4H",
        "outputId": "456fe43e-ca93-4c1a-dd5c-5ee796ef007c"
      },
      "execution_count": null,
      "outputs": [
        {
          "output_type": "stream",
          "name": "stdout",
          "text": [
            "This is an example of list [10, 20, 30, 40]\n"
          ]
        }
      ]
    },
    {
      "cell_type": "code",
      "source": [
        "#Showing the value with Explicit Casting\n",
        "x = Number[2]\n",
        "x = float(x)\n",
        "print(x)"
      ],
      "metadata": {
        "colab": {
          "base_uri": "https://localhost:8080/"
        },
        "id": "b8AEfslbhtCc",
        "outputId": "37b19026-576d-440c-9bb8-9df776b91761"
      },
      "execution_count": null,
      "outputs": [
        {
          "output_type": "stream",
          "name": "stdout",
          "text": [
            "30.0\n"
          ]
        }
      ]
    },
    {
      "cell_type": "markdown",
      "source": [
        "Write a program that checks if a number is positive, negative, or zero.\n"
      ],
      "metadata": {
        "id": "HYiT2bAMizBI"
      }
    },
    {
      "cell_type": "code",
      "source": [
        "Number = int(input(\"Enter a number:\"))\n",
        "if Number >= 0:\n",
        "  if Number == 0:\n",
        "    print (\"Number is zero\")\n",
        "  else:\n",
        "      print (\"Number is positive\")\n",
        "else:\n",
        "    print (\"Number is negative\")"
      ],
      "metadata": {
        "colab": {
          "base_uri": "https://localhost:8080/"
        },
        "id": "CMT6H7gbi1XQ",
        "outputId": "f6bc40f5-d6a0-4c20-82b6-f95b509f8196"
      },
      "execution_count": null,
      "outputs": [
        {
          "output_type": "stream",
          "name": "stdout",
          "text": [
            "Enter a number:0\n",
            "Number is zero\n"
          ]
        }
      ]
    },
    {
      "cell_type": "markdown",
      "source": [
        "Write a for loop to print numbers from 1 to 10."
      ],
      "metadata": {
        "id": "uvS7RUhnlunP"
      }
    },
    {
      "cell_type": "code",
      "source": [
        "a = list(range(1,11))\n",
        "\n",
        "for i in a:\n",
        "  print(i)\n"
      ],
      "metadata": {
        "id": "4fvMfuKWl-3v",
        "colab": {
          "base_uri": "https://localhost:8080/"
        },
        "outputId": "9c5660a4-d57e-422b-b644-bb5e981693b5"
      },
      "execution_count": null,
      "outputs": [
        {
          "output_type": "stream",
          "name": "stdout",
          "text": [
            "1\n",
            "2\n",
            "3\n",
            "4\n",
            "5\n",
            "6\n",
            "7\n",
            "8\n",
            "9\n",
            "10\n"
          ]
        }
      ]
    },
    {
      "cell_type": "markdown",
      "source": [
        "Write a Python program to find the sum of all even numbers between 1 and 50."
      ],
      "metadata": {
        "id": "Y_B4oAi9mGuf"
      }
    },
    {
      "cell_type": "code",
      "source": [
        "a= list(range(1,51))\n",
        "b= []\n",
        "\n",
        "for i in a:\n",
        "  if i%2==0:\n",
        "    b.append(i)\n",
        "print(sum(b))\n",
        "print(b)"
      ],
      "metadata": {
        "id": "S4-VSc3OmpV_",
        "colab": {
          "base_uri": "https://localhost:8080/"
        },
        "outputId": "171cb041-47cf-41f8-93f3-e19cd83095f0"
      },
      "execution_count": 8,
      "outputs": [
        {
          "output_type": "stream",
          "name": "stdout",
          "text": [
            "650\n",
            "[2, 4, 6, 8, 10, 12, 14, 16, 18, 20, 22, 24, 26, 28, 30, 32, 34, 36, 38, 40, 42, 44, 46, 48, 50]\n"
          ]
        }
      ]
    },
    {
      "cell_type": "markdown",
      "source": [
        "Write a program to reverse a string using a while loop"
      ],
      "metadata": {
        "id": "DPdB3gqHmp0n"
      }
    },
    {
      "cell_type": "code",
      "source": [
        "def x(s):\n",
        "    \"\"\"\n",
        "    Reverses a string using a while loop.\n",
        "\n",
        "    Args:\n",
        "        s: The input string.\n",
        "\n",
        "    Returns:\n",
        "        The reversed string.\n",
        "    \"\"\"\n",
        "    a = \"\"\n",
        "    b = len(s) - 1\n",
        "\n",
        "    while b >= 0:\n",
        "        a = a + s[b]\n",
        "        b = b - 1\n",
        "    return a\n",
        "\n",
        "result= x(\"Tathagata\")\n",
        "print(result)"
      ],
      "metadata": {
        "id": "2UDT5zoBmuFA",
        "colab": {
          "base_uri": "https://localhost:8080/"
        },
        "outputId": "8a24d802-b08a-42f2-a192-8732f8b4d916"
      },
      "execution_count": 6,
      "outputs": [
        {
          "output_type": "stream",
          "name": "stdout",
          "text": [
            "atagahtaT\n"
          ]
        }
      ]
    },
    {
      "cell_type": "markdown",
      "source": [
        "Write a Python program to calculate the factorial of a number provided by the user using a while loop"
      ],
      "metadata": {
        "id": "vS4G-rqqmy1n"
      }
    },
    {
      "cell_type": "code",
      "source": [
        "factorial = 1\n",
        "i = 1\n",
        "a = int(input(\"Enter a non-negative integer to calculate its factorial: \"))\n",
        "while i <= a:\n",
        "  factorial *= i\n",
        "  i += 1\n",
        "print(f\"The factorial of {a} is {factorial}\")"
      ],
      "metadata": {
        "id": "4uib6EN8m0JA",
        "colab": {
          "base_uri": "https://localhost:8080/"
        },
        "outputId": "e0a84c62-4d14-4369-cfab-0fc4a989a766"
      },
      "execution_count": 11,
      "outputs": [
        {
          "output_type": "stream",
          "name": "stdout",
          "text": [
            "Enter a non-negative integer to calculate its factorial: 7\n",
            "The factorial of 7 is 5040\n"
          ]
        }
      ]
    }
  ]
}